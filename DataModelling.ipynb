{
 "cells": [
  {
   "cell_type": "code",
   "execution_count": 321,
   "metadata": {},
   "outputs": [],
   "source": [
    "import pandas as pd\n",
    "import numpy as np\n",
    "import os\n",
    "\n",
    "from tmdbv3api import Movie\n",
    "from tmdbv3api import TMDb\n",
    "import requests\n",
    "import json"
   ]
  },
  {
   "cell_type": "code",
   "execution_count": 322,
   "metadata": {},
   "outputs": [],
   "source": [
    "data = pd.read_csv(\"MovieFinal.csv\")"
   ]
  },
  {
   "cell_type": "code",
   "execution_count": 323,
   "metadata": {},
   "outputs": [
    {
     "data": {
      "text/html": [
       "<div>\n",
       "<style scoped>\n",
       "    .dataframe tbody tr th:only-of-type {\n",
       "        vertical-align: middle;\n",
       "    }\n",
       "\n",
       "    .dataframe tbody tr th {\n",
       "        vertical-align: top;\n",
       "    }\n",
       "\n",
       "    .dataframe thead th {\n",
       "        text-align: right;\n",
       "    }\n",
       "</style>\n",
       "<table border=\"1\" class=\"dataframe\">\n",
       "  <thead>\n",
       "    <tr style=\"text-align: right;\">\n",
       "      <th></th>\n",
       "      <th>movie_title</th>\n",
       "      <th>genres</th>\n",
       "      <th>director_name</th>\n",
       "      <th>actor_1_name</th>\n",
       "      <th>actor_2_name</th>\n",
       "      <th>actor_3_name</th>\n",
       "      <th>overview</th>\n",
       "      <th>combine</th>\n",
       "    </tr>\n",
       "  </thead>\n",
       "  <tbody>\n",
       "    <tr>\n",
       "      <th>0</th>\n",
       "      <td>Underworld: Blood Wars</td>\n",
       "      <td>Fantasy Action Thriller Horror</td>\n",
       "      <td>Anna Foerster</td>\n",
       "      <td>Kate Beckinsale</td>\n",
       "      <td>Theo James</td>\n",
       "      <td>Lara Pulver</td>\n",
       "      <td>Vampire death dealer Selene fends off brutal a...</td>\n",
       "      <td>Underworld: Blood Wars Fantasy Action Thriller...</td>\n",
       "    </tr>\n",
       "    <tr>\n",
       "      <th>1</th>\n",
       "      <td>Arsenal</td>\n",
       "      <td>Thriller Crime</td>\n",
       "      <td>Steven C. Miller</td>\n",
       "      <td>Adrian Grenier</td>\n",
       "      <td>Johnathon Schaech</td>\n",
       "      <td>Nicolas Cage</td>\n",
       "      <td>After the deadbeat brother of a businessman is...</td>\n",
       "      <td>Arsenal Thriller Crime Steven C. Miller  Adria...</td>\n",
       "    </tr>\n",
       "    <tr>\n",
       "      <th>2</th>\n",
       "      <td>Between Us</td>\n",
       "      <td>Drama</td>\n",
       "      <td>Rafael Palacio Illingworth</td>\n",
       "      <td>Olivia Thirlby</td>\n",
       "      <td>Ben Feldman</td>\n",
       "      <td>Adam Goldberg</td>\n",
       "      <td>A New York couple and their Midwestern friends...</td>\n",
       "      <td>Between Us Drama Rafael Palacio Illingworth  O...</td>\n",
       "    </tr>\n",
       "    <tr>\n",
       "      <th>3</th>\n",
       "      <td>Monster Trucks</td>\n",
       "      <td>Action Comedy Science Fiction</td>\n",
       "      <td>Chris Wedge</td>\n",
       "      <td>Lucas Till</td>\n",
       "      <td>Jane Levy</td>\n",
       "      <td>Amy Ryan</td>\n",
       "      <td>Tripp is a high school senior with a knack for...</td>\n",
       "      <td>Monster Trucks Action Comedy Science Fiction C...</td>\n",
       "    </tr>\n",
       "    <tr>\n",
       "      <th>4</th>\n",
       "      <td>The Bye Bye Man</td>\n",
       "      <td>Horror Thriller</td>\n",
       "      <td>Stacy Title</td>\n",
       "      <td>Douglas Smith</td>\n",
       "      <td>Doug Jones</td>\n",
       "      <td>Michael Trucco</td>\n",
       "      <td>When three college students move into an old h...</td>\n",
       "      <td>The Bye Bye Man Horror Thriller Stacy Title  D...</td>\n",
       "    </tr>\n",
       "  </tbody>\n",
       "</table>\n",
       "</div>"
      ],
      "text/plain": [
       "              movie_title                          genres  \\\n",
       "0  Underworld: Blood Wars  Fantasy Action Thriller Horror   \n",
       "1                 Arsenal                  Thriller Crime   \n",
       "2              Between Us                           Drama   \n",
       "3          Monster Trucks   Action Comedy Science Fiction   \n",
       "4         The Bye Bye Man                 Horror Thriller   \n",
       "\n",
       "                 director_name      actor_1_name        actor_2_name  \\\n",
       "0               Anna Foerster    Kate Beckinsale          Theo James   \n",
       "1            Steven C. Miller     Adrian Grenier   Johnathon Schaech   \n",
       "2  Rafael Palacio Illingworth     Olivia Thirlby         Ben Feldman   \n",
       "3                 Chris Wedge         Lucas Till           Jane Levy   \n",
       "4                 Stacy Title      Douglas Smith          Doug Jones   \n",
       "\n",
       "      actor_3_name                                           overview  \\\n",
       "0      Lara Pulver  Vampire death dealer Selene fends off brutal a...   \n",
       "1     Nicolas Cage  After the deadbeat brother of a businessman is...   \n",
       "2    Adam Goldberg  A New York couple and their Midwestern friends...   \n",
       "3         Amy Ryan  Tripp is a high school senior with a knack for...   \n",
       "4   Michael Trucco  When three college students move into an old h...   \n",
       "\n",
       "                                             combine  \n",
       "0  Underworld: Blood Wars Fantasy Action Thriller...  \n",
       "1  Arsenal Thriller Crime Steven C. Miller  Adria...  \n",
       "2  Between Us Drama Rafael Palacio Illingworth  O...  \n",
       "3  Monster Trucks Action Comedy Science Fiction C...  \n",
       "4  The Bye Bye Man Horror Thriller Stacy Title  D...  "
      ]
     },
     "execution_count": 323,
     "metadata": {},
     "output_type": "execute_result"
    }
   ],
   "source": [
    "data.head()"
   ]
  },
  {
   "cell_type": "code",
   "execution_count": 324,
   "metadata": {},
   "outputs": [
    {
     "data": {
      "text/html": [
       "<div>\n",
       "<style scoped>\n",
       "    .dataframe tbody tr th:only-of-type {\n",
       "        vertical-align: middle;\n",
       "    }\n",
       "\n",
       "    .dataframe tbody tr th {\n",
       "        vertical-align: top;\n",
       "    }\n",
       "\n",
       "    .dataframe thead th {\n",
       "        text-align: right;\n",
       "    }\n",
       "</style>\n",
       "<table border=\"1\" class=\"dataframe\">\n",
       "  <thead>\n",
       "    <tr style=\"text-align: right;\">\n",
       "      <th></th>\n",
       "      <th>movie_title</th>\n",
       "      <th>genres</th>\n",
       "      <th>director_name</th>\n",
       "      <th>actor_1_name</th>\n",
       "      <th>actor_2_name</th>\n",
       "      <th>actor_3_name</th>\n",
       "      <th>overview</th>\n",
       "      <th>combine</th>\n",
       "    </tr>\n",
       "  </thead>\n",
       "  <tbody>\n",
       "  </tbody>\n",
       "</table>\n",
       "</div>"
      ],
      "text/plain": [
       "Empty DataFrame\n",
       "Columns: [movie_title, genres, director_name, actor_1_name, actor_2_name, actor_3_name, overview, combine]\n",
       "Index: []"
      ]
     },
     "execution_count": 324,
     "metadata": {},
     "output_type": "execute_result"
    }
   ],
   "source": [
    "df2 = data[data.duplicated(keep=False)]\n",
    "\n",
    "df2.sort_values(\"movie_title\").head(10)\n"
   ]
  },
  {
   "cell_type": "code",
   "execution_count": 325,
   "metadata": {},
   "outputs": [],
   "source": [
    "data = data.reset_index(drop = True)"
   ]
  },
  {
   "cell_type": "code",
   "execution_count": 326,
   "metadata": {},
   "outputs": [
    {
     "data": {
      "text/plain": [
       "6730"
      ]
     },
     "execution_count": 326,
     "metadata": {},
     "output_type": "execute_result"
    }
   ],
   "source": [
    "len(data)"
   ]
  },
  {
   "cell_type": "code",
   "execution_count": 327,
   "metadata": {},
   "outputs": [
    {
     "data": {
      "text/plain": [
       "'Youth in Oregon'"
      ]
     },
     "execution_count": 327,
     "metadata": {},
     "output_type": "execute_result"
    }
   ],
   "source": [
    "data[\"movie_title\"][20]"
   ]
  },
  {
   "cell_type": "code",
   "execution_count": 328,
   "metadata": {},
   "outputs": [
    {
     "data": {
      "text/html": [
       "<div>\n",
       "<style scoped>\n",
       "    .dataframe tbody tr th:only-of-type {\n",
       "        vertical-align: middle;\n",
       "    }\n",
       "\n",
       "    .dataframe tbody tr th {\n",
       "        vertical-align: top;\n",
       "    }\n",
       "\n",
       "    .dataframe thead th {\n",
       "        text-align: right;\n",
       "    }\n",
       "</style>\n",
       "<table border=\"1\" class=\"dataframe\">\n",
       "  <thead>\n",
       "    <tr style=\"text-align: right;\">\n",
       "      <th></th>\n",
       "      <th>movie_title</th>\n",
       "      <th>genres</th>\n",
       "      <th>director_name</th>\n",
       "      <th>actor_1_name</th>\n",
       "      <th>actor_2_name</th>\n",
       "      <th>actor_3_name</th>\n",
       "      <th>overview</th>\n",
       "      <th>combine</th>\n",
       "    </tr>\n",
       "  </thead>\n",
       "  <tbody>\n",
       "    <tr>\n",
       "      <th>count</th>\n",
       "      <td>6730</td>\n",
       "      <td>6726</td>\n",
       "      <td>6622</td>\n",
       "      <td>6715</td>\n",
       "      <td>6674</td>\n",
       "      <td>6544</td>\n",
       "      <td>6686</td>\n",
       "      <td>6730</td>\n",
       "    </tr>\n",
       "    <tr>\n",
       "      <th>unique</th>\n",
       "      <td>6668</td>\n",
       "      <td>1418</td>\n",
       "      <td>3877</td>\n",
       "      <td>3249</td>\n",
       "      <td>4353</td>\n",
       "      <td>4895</td>\n",
       "      <td>6477</td>\n",
       "      <td>6730</td>\n",
       "    </tr>\n",
       "    <tr>\n",
       "      <th>top</th>\n",
       "      <td>The Misfits</td>\n",
       "      <td>Drama</td>\n",
       "      <td>Steven Spielberg</td>\n",
       "      <td>Robert De Niro</td>\n",
       "      <td>Bruce Willis</td>\n",
       "      <td>Steve Coogan</td>\n",
       "      <td>Peter Quill, still reeling from the loss of Ga...</td>\n",
       "      <td>Underworld: Blood Wars Fantasy Action Thriller...</td>\n",
       "    </tr>\n",
       "    <tr>\n",
       "      <th>freq</th>\n",
       "      <td>2</td>\n",
       "      <td>396</td>\n",
       "      <td>26</td>\n",
       "      <td>47</td>\n",
       "      <td>18</td>\n",
       "      <td>8</td>\n",
       "      <td>5</td>\n",
       "      <td>1</td>\n",
       "    </tr>\n",
       "  </tbody>\n",
       "</table>\n",
       "</div>"
      ],
      "text/plain": [
       "        movie_title genres     director_name    actor_1_name   actor_2_name  \\\n",
       "count          6730   6726              6622            6715           6674   \n",
       "unique         6668   1418              3877            3249           4353   \n",
       "top     The Misfits  Drama  Steven Spielberg  Robert De Niro   Bruce Willis   \n",
       "freq              2    396                26              47             18   \n",
       "\n",
       "        actor_3_name                                           overview  \\\n",
       "count           6544                                               6686   \n",
       "unique          4895                                               6477   \n",
       "top     Steve Coogan  Peter Quill, still reeling from the loss of Ga...   \n",
       "freq               8                                                  5   \n",
       "\n",
       "                                                  combine  \n",
       "count                                                6730  \n",
       "unique                                               6730  \n",
       "top     Underworld: Blood Wars Fantasy Action Thriller...  \n",
       "freq                                                    1  "
      ]
     },
     "execution_count": 328,
     "metadata": {},
     "output_type": "execute_result"
    }
   ],
   "source": [
    "data.describe()"
   ]
  },
  {
   "cell_type": "code",
   "execution_count": 329,
   "metadata": {},
   "outputs": [
    {
     "data": {
      "text/html": [
       "<div>\n",
       "<style scoped>\n",
       "    .dataframe tbody tr th:only-of-type {\n",
       "        vertical-align: middle;\n",
       "    }\n",
       "\n",
       "    .dataframe tbody tr th {\n",
       "        vertical-align: top;\n",
       "    }\n",
       "\n",
       "    .dataframe thead th {\n",
       "        text-align: right;\n",
       "    }\n",
       "</style>\n",
       "<table border=\"1\" class=\"dataframe\">\n",
       "  <thead>\n",
       "    <tr style=\"text-align: right;\">\n",
       "      <th></th>\n",
       "      <th>movie_title</th>\n",
       "      <th>genres</th>\n",
       "      <th>director_name</th>\n",
       "      <th>actor_1_name</th>\n",
       "      <th>actor_2_name</th>\n",
       "      <th>actor_3_name</th>\n",
       "      <th>overview</th>\n",
       "      <th>combine</th>\n",
       "    </tr>\n",
       "  </thead>\n",
       "  <tbody>\n",
       "    <tr>\n",
       "      <th>count</th>\n",
       "      <td>6606</td>\n",
       "      <td>6602</td>\n",
       "      <td>6503</td>\n",
       "      <td>6591</td>\n",
       "      <td>6550</td>\n",
       "      <td>6425</td>\n",
       "      <td>6563</td>\n",
       "      <td>6606</td>\n",
       "    </tr>\n",
       "    <tr>\n",
       "      <th>unique</th>\n",
       "      <td>6606</td>\n",
       "      <td>1400</td>\n",
       "      <td>3823</td>\n",
       "      <td>3214</td>\n",
       "      <td>4282</td>\n",
       "      <td>4821</td>\n",
       "      <td>6398</td>\n",
       "      <td>6606</td>\n",
       "    </tr>\n",
       "    <tr>\n",
       "      <th>top</th>\n",
       "      <td>Underworld: Blood Wars</td>\n",
       "      <td>Drama</td>\n",
       "      <td>Steven Spielberg</td>\n",
       "      <td>Robert De Niro</td>\n",
       "      <td>Bruce Willis</td>\n",
       "      <td>Steve Coogan</td>\n",
       "      <td>Peter Quill, still reeling from the loss of Ga...</td>\n",
       "      <td>Underworld: Blood Wars Fantasy Action Thriller...</td>\n",
       "    </tr>\n",
       "    <tr>\n",
       "      <th>freq</th>\n",
       "      <td>1</td>\n",
       "      <td>391</td>\n",
       "      <td>26</td>\n",
       "      <td>47</td>\n",
       "      <td>17</td>\n",
       "      <td>7</td>\n",
       "      <td>5</td>\n",
       "      <td>1</td>\n",
       "    </tr>\n",
       "  </tbody>\n",
       "</table>\n",
       "</div>"
      ],
      "text/plain": [
       "                   movie_title genres     director_name    actor_1_name  \\\n",
       "count                     6606   6602              6503            6591   \n",
       "unique                    6606   1400              3823            3214   \n",
       "top     Underworld: Blood Wars  Drama  Steven Spielberg  Robert De Niro   \n",
       "freq                         1    391                26              47   \n",
       "\n",
       "         actor_2_name  actor_3_name  \\\n",
       "count            6550          6425   \n",
       "unique           4282          4821   \n",
       "top      Bruce Willis  Steve Coogan   \n",
       "freq               17             7   \n",
       "\n",
       "                                                 overview  \\\n",
       "count                                                6563   \n",
       "unique                                               6398   \n",
       "top     Peter Quill, still reeling from the loss of Ga...   \n",
       "freq                                                    5   \n",
       "\n",
       "                                                  combine  \n",
       "count                                                6606  \n",
       "unique                                               6606  \n",
       "top     Underworld: Blood Wars Fantasy Action Thriller...  \n",
       "freq                                                    1  "
      ]
     },
     "execution_count": 329,
     "metadata": {},
     "output_type": "execute_result"
    }
   ],
   "source": [
    "data.drop_duplicates(subset=\"movie_title\",\n",
    "                     keep=False, inplace=True)\n",
    "\n",
    "data.describe()"
   ]
  },
  {
   "cell_type": "code",
   "execution_count": 330,
   "metadata": {},
   "outputs": [
    {
     "data": {
      "text/html": [
       "<div>\n",
       "<style scoped>\n",
       "    .dataframe tbody tr th:only-of-type {\n",
       "        vertical-align: middle;\n",
       "    }\n",
       "\n",
       "    .dataframe tbody tr th {\n",
       "        vertical-align: top;\n",
       "    }\n",
       "\n",
       "    .dataframe thead th {\n",
       "        text-align: right;\n",
       "    }\n",
       "</style>\n",
       "<table border=\"1\" class=\"dataframe\">\n",
       "  <thead>\n",
       "    <tr style=\"text-align: right;\">\n",
       "      <th></th>\n",
       "      <th>movie_title</th>\n",
       "      <th>genres</th>\n",
       "      <th>director_name</th>\n",
       "      <th>actor_1_name</th>\n",
       "      <th>actor_2_name</th>\n",
       "      <th>actor_3_name</th>\n",
       "      <th>overview</th>\n",
       "      <th>combine</th>\n",
       "    </tr>\n",
       "  </thead>\n",
       "  <tbody>\n",
       "  </tbody>\n",
       "</table>\n",
       "</div>"
      ],
      "text/plain": [
       "Empty DataFrame\n",
       "Columns: [movie_title, genres, director_name, actor_1_name, actor_2_name, actor_3_name, overview, combine]\n",
       "Index: []"
      ]
     },
     "execution_count": 330,
     "metadata": {},
     "output_type": "execute_result"
    }
   ],
   "source": [
    "df3 = data[data.duplicated(keep=False)]\n",
    "\n",
    "df3.sort_values(\"movie_title\").head(10)\n"
   ]
  },
  {
   "cell_type": "code",
   "execution_count": 331,
   "metadata": {},
   "outputs": [],
   "source": [
    "def remove_EOL(MovieName):\n",
    "    return MovieName.split(\"\\xa0\")[0]"
   ]
  },
  {
   "cell_type": "code",
   "execution_count": 332,
   "metadata": {},
   "outputs": [],
   "source": [
    "data[\"movie_title\"] = data[\"movie_title\"].apply(remove_EOL)"
   ]
  },
  {
   "cell_type": "code",
   "execution_count": 333,
   "metadata": {},
   "outputs": [
    {
     "data": {
      "text/plain": [
       "'Shazam! Fury of the Gods'"
      ]
     },
     "execution_count": 333,
     "metadata": {},
     "output_type": "execute_result"
    }
   ],
   "source": [
    "data[\"movie_title\"][1773]"
   ]
  },
  {
   "cell_type": "code",
   "execution_count": 334,
   "metadata": {},
   "outputs": [
    {
     "data": {
      "text/html": [
       "<div>\n",
       "<style scoped>\n",
       "    .dataframe tbody tr th:only-of-type {\n",
       "        vertical-align: middle;\n",
       "    }\n",
       "\n",
       "    .dataframe tbody tr th {\n",
       "        vertical-align: top;\n",
       "    }\n",
       "\n",
       "    .dataframe thead th {\n",
       "        text-align: right;\n",
       "    }\n",
       "</style>\n",
       "<table border=\"1\" class=\"dataframe\">\n",
       "  <thead>\n",
       "    <tr style=\"text-align: right;\">\n",
       "      <th></th>\n",
       "      <th>movie_title</th>\n",
       "      <th>genres</th>\n",
       "      <th>director_name</th>\n",
       "      <th>actor_1_name</th>\n",
       "      <th>actor_2_name</th>\n",
       "      <th>actor_3_name</th>\n",
       "      <th>overview</th>\n",
       "      <th>combine</th>\n",
       "    </tr>\n",
       "  </thead>\n",
       "  <tbody>\n",
       "    <tr>\n",
       "      <th>28</th>\n",
       "      <td>A Cure for Wellness</td>\n",
       "      <td>Horror Mystery Science Fiction</td>\n",
       "      <td>Gore Verbinski</td>\n",
       "      <td>Dane DeHaan</td>\n",
       "      <td>Mia Goth</td>\n",
       "      <td>Jason Isaacs</td>\n",
       "      <td>An ambitious young executive is sent to retrie...</td>\n",
       "      <td>A Cure for Wellness Horror Mystery Science Fic...</td>\n",
       "    </tr>\n",
       "  </tbody>\n",
       "</table>\n",
       "</div>"
      ],
      "text/plain": [
       "            movie_title                          genres    director_name  \\\n",
       "28  A Cure for Wellness  Horror Mystery Science Fiction  Gore Verbinski    \n",
       "\n",
       "    actor_1_name actor_2_name   actor_3_name  \\\n",
       "28   Dane DeHaan     Mia Goth   Jason Isaacs   \n",
       "\n",
       "                                             overview  \\\n",
       "28  An ambitious young executive is sent to retrie...   \n",
       "\n",
       "                                              combine  \n",
       "28  A Cure for Wellness Horror Mystery Science Fic...  "
      ]
     },
     "execution_count": 334,
     "metadata": {},
     "output_type": "execute_result"
    }
   ],
   "source": [
    "data[data[\"movie_title\"]== \"A Cure for Wellness\"]"
   ]
  },
  {
   "cell_type": "code",
   "execution_count": 339,
   "metadata": {},
   "outputs": [],
   "source": [
    "def get_poster(movie_name):\n",
    "    tmdb = TMDb()\n",
    "    movie = Movie()\n",
    "    tmdb.api_key = os.environ.get('api_key')\n",
    "\n",
    "    url_string = \"https://image.tmdb.org/t/p/original\"\n",
    "    result = movie.search(movie_name)\n",
    "    \n",
    "    if len(result) > 0 :\n",
    "        id = result[0][\"id\"]\n",
    "    else:\n",
    "        id = np.NaN\n",
    "\n",
    "    url3 = f\"http://api.themoviedb.org/3/movie/{id}?api_key={tmdb.api_key}\"\n",
    "    response = requests.get(url3)\n",
    "    data3 = response.json()\n",
    "\n",
    "    if len(data3) > 3:\n",
    "          try:\n",
    "               return url_string+data3.get(\"poster_path\")\n",
    "          except TypeError:\n",
    "                return np.NaN     \n",
    "    "
   ]
  },
  {
   "cell_type": "code",
   "execution_count": 340,
   "metadata": {},
   "outputs": [],
   "source": [
    "data[\"poster\"] = data[\"movie_title\"].apply(get_poster)"
   ]
  },
  {
   "cell_type": "code",
   "execution_count": 346,
   "metadata": {},
   "outputs": [],
   "source": [
    "data.to_csv(\"MovieFinal.csv\", index=False)"
   ]
  },
  {
   "cell_type": "code",
   "execution_count": null,
   "metadata": {},
   "outputs": [],
   "source": []
  }
 ],
 "metadata": {
  "kernelspec": {
   "display_name": ".venv",
   "language": "python",
   "name": "python3"
  },
  "language_info": {
   "codemirror_mode": {
    "name": "ipython",
    "version": 3
   },
   "file_extension": ".py",
   "mimetype": "text/x-python",
   "name": "python",
   "nbconvert_exporter": "python",
   "pygments_lexer": "ipython3",
   "version": "3.7.4"
  },
  "orig_nbformat": 4
 },
 "nbformat": 4,
 "nbformat_minor": 2
}
