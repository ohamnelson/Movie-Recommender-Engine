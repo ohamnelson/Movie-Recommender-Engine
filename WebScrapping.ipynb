{
 "cells": [
  {
   "cell_type": "code",
   "execution_count": 57,
   "metadata": {},
   "outputs": [],
   "source": [
    "import pandas as pd\n",
    "import numpy as np\n",
    "import os\n",
    "\n",
    "from tmdbv3api import Movie\n",
    "from tmdbv3api import TMDb\n",
    "import requests"
   ]
  },
  {
   "cell_type": "code",
   "execution_count": 73,
   "metadata": {},
   "outputs": [],
   "source": [
    "#for i in range(2018,2024):\n",
    "def get_movies(year):\n",
    "    link = f\"https://en.wikipedia.org/wiki/List_of_American_films_of_{year}\"\n",
    "    df1 = pd.read_html(link, header=0)[2]\n",
    "    df2 = pd.read_html(link, header=0)[3]\n",
    "    df3 = pd.read_html(link, header=0)[4]\n",
    "    df4 = pd.read_html(link, header=0)[5]\n",
    "    df = df1.append(df2.append(df3.append(df4,ignore_index=True),ignore_index=True),ignore_index=True)\n",
    "\n",
    "    return df\n"
   ]
  },
  {
   "cell_type": "code",
   "execution_count": 69,
   "metadata": {},
   "outputs": [],
   "source": [
    "df_2017 = get_movies(2017)\n",
    "df_2018 = get_movies(2018)\n",
    "df_2019 = get_movies(2019)\n",
    "df_2020 = get_movies(2020)\n",
    "df_2021 = get_movies(2021)\n",
    "df_2022 = get_movies(2022)\n",
    "df_2023 = get_movies(2023)\n",
    "\n"
   ]
  },
  {
   "cell_type": "code",
   "execution_count": 77,
   "metadata": {},
   "outputs": [],
   "source": [
    "df_2017 = df_2017[[\"Title\", \"Cast and crew\"]]\n",
    "df_2018 = df_2018[[\"Title\", \"Cast and crew\"]]\n",
    "df_2019 = df_2019[[\"Title\", \"Cast and crew\"]]\n",
    "df_2020 = df_2020[[\"Title\", \"Cast and crew\"]]\n",
    "df_2021 = df_2021[[\"Title\", \"Cast and crew\"]]\n",
    "df_2022 = df_2022[[\"Title\", \"Cast and crew\"]]\n",
    "df_2023 = df_2023[[\"Title\", \"Cast and crew\"]]\n"
   ]
  },
  {
   "cell_type": "code",
   "execution_count": 144,
   "metadata": {},
   "outputs": [],
   "source": [
    "def get_genres(movie_name):\n",
    "    tmdb = TMDb()\n",
    "    tmdb_movie = Movie()\n",
    "\n",
    "    genres = \" \"\n",
    "    result = tmdb_movie.search(movie_name)\n",
    "\n",
    "    if len(result) > 0 :\n",
    "        id = result[0][\"id\"]\n",
    "    else:\n",
    "        id = np.NaN\n",
    "\n",
    "    url = f\"http://api.themoviedb.org/3/movie/{id}?api_key={os.environ.get('api_key')}\"\n",
    "    response = requests.get(url)\n",
    "    data = response.json()\n",
    "    \n",
    "    if len(data) > 3:\n",
    "        for i in range(0,len(data.get(\"genres\"))):\n",
    "             genres +=((data[\"genres\"][i][\"name\"])) \n",
    "        return genres\n",
    "    else:\n",
    "        return np.NaN\n",
    "    \n"
   ]
  },
  {
   "cell_type": "code",
   "execution_count": 177,
   "metadata": {},
   "outputs": [],
   "source": [
    "df_2021[\"Title\"] = df_2021[\"Title\"].astype(\"str\") \n",
    "df_2022[\"Title\"] = df_2022[\"Title\"].astype(\"str\") \n",
    "df_2023[\"Title\"] = df_2023[\"Title\"].astype(\"str\") "
   ]
  },
  {
   "cell_type": "code",
   "execution_count": 178,
   "metadata": {},
   "outputs": [],
   "source": [
    "\n",
    "df_2017[\"genres\"] = df_2017[\"Title\"].apply(get_genres)\n",
    "df_2018[\"genres\"] = df_2018[\"Title\"].apply(get_genres)\n",
    "df_2019[\"genres\"] = df_2019[\"Title\"].apply(get_genres)\n",
    "df_2020[\"genres\"] = df_2020[\"Title\"].apply(get_genres)\n",
    "df_2021[\"genres\"] = df_2021[\"Title\"].apply(get_genres)\n",
    "df_2022[\"genres\"] = df_2022[\"Title\"].apply(get_genres)\n",
    "df_2023[\"genres\"] = df_2023[\"Title\"].apply(get_genres)"
   ]
  },
  {
   "cell_type": "code",
   "execution_count": 190,
   "metadata": {},
   "outputs": [],
   "source": [
    "df_total = pd.concat([df_2017, df_2018, df_2019, df_2020, df_2021, df_2022, df_2023], ignore_index=True)"
   ]
  },
  {
   "cell_type": "code",
   "execution_count": 191,
   "metadata": {},
   "outputs": [
    {
     "data": {
      "text/html": [
       "<div>\n",
       "<style scoped>\n",
       "    .dataframe tbody tr th:only-of-type {\n",
       "        vertical-align: middle;\n",
       "    }\n",
       "\n",
       "    .dataframe tbody tr th {\n",
       "        vertical-align: top;\n",
       "    }\n",
       "\n",
       "    .dataframe thead th {\n",
       "        text-align: right;\n",
       "    }\n",
       "</style>\n",
       "<table border=\"1\" class=\"dataframe\">\n",
       "  <thead>\n",
       "    <tr style=\"text-align: right;\">\n",
       "      <th></th>\n",
       "      <th>Title</th>\n",
       "      <th>Cast and crew</th>\n",
       "      <th>genres</th>\n",
       "    </tr>\n",
       "  </thead>\n",
       "  <tbody>\n",
       "    <tr>\n",
       "      <th>0</th>\n",
       "      <td>Underworld: Blood Wars</td>\n",
       "      <td>Anna Foerster (director); Cory Goodman (screen...</td>\n",
       "      <td>FantasyActionThrillerHorror</td>\n",
       "    </tr>\n",
       "    <tr>\n",
       "      <th>1</th>\n",
       "      <td>Arsenal</td>\n",
       "      <td>Steven C. Miller (director); Jason Mosberg (sc...</td>\n",
       "      <td>ThrillerCrime</td>\n",
       "    </tr>\n",
       "    <tr>\n",
       "      <th>2</th>\n",
       "      <td>Between Us</td>\n",
       "      <td>Rafael Palacio Illingworth (director/screenpla...</td>\n",
       "      <td>Drama</td>\n",
       "    </tr>\n",
       "    <tr>\n",
       "      <th>3</th>\n",
       "      <td>Monster Trucks</td>\n",
       "      <td>Chris Wedge (director); Derek Connolly (screen...</td>\n",
       "      <td>ActionComedyScience Fiction</td>\n",
       "    </tr>\n",
       "    <tr>\n",
       "      <th>4</th>\n",
       "      <td>The Bye Bye Man</td>\n",
       "      <td>Stacy Title (director); Jonathan Penner (scree...</td>\n",
       "      <td>HorrorThriller</td>\n",
       "    </tr>\n",
       "    <tr>\n",
       "      <th>...</th>\n",
       "      <td>...</td>\n",
       "      <td>...</td>\n",
       "      <td>...</td>\n",
       "    </tr>\n",
       "    <tr>\n",
       "      <th>1934</th>\n",
       "      <td>Drive-Away Dolls</td>\n",
       "      <td>Ethan Coen (director/screenplay); Tricia Cooke...</td>\n",
       "      <td>CrimeComedy</td>\n",
       "    </tr>\n",
       "    <tr>\n",
       "      <th>1935</th>\n",
       "      <td>It Lives Inside</td>\n",
       "      <td>Bishal Dutta (director/screenplay); Megan Suri...</td>\n",
       "      <td>Horror</td>\n",
       "    </tr>\n",
       "    <tr>\n",
       "      <th>1936</th>\n",
       "      <td>PAW Patrol: The Mighty Movie</td>\n",
       "      <td>Cal Brunker (director); Mckenna Grace, Taraji ...</td>\n",
       "      <td>AnimationFamilyComedyAction</td>\n",
       "    </tr>\n",
       "    <tr>\n",
       "      <th>1937</th>\n",
       "      <td>The Creator</td>\n",
       "      <td>Gareth Edwards (director/screenplay); Chris We...</td>\n",
       "      <td>Science FictionActionThriller</td>\n",
       "    </tr>\n",
       "    <tr>\n",
       "      <th>1938</th>\n",
       "      <td>Saw X</td>\n",
       "      <td>Kevin Greutert (director); Josh Stolberg, Pete...</td>\n",
       "      <td>HorrorThrillerMystery</td>\n",
       "    </tr>\n",
       "  </tbody>\n",
       "</table>\n",
       "<p>1939 rows × 3 columns</p>\n",
       "</div>"
      ],
      "text/plain": [
       "                             Title  \\\n",
       "0           Underworld: Blood Wars   \n",
       "1                          Arsenal   \n",
       "2                       Between Us   \n",
       "3                   Monster Trucks   \n",
       "4                  The Bye Bye Man   \n",
       "...                            ...   \n",
       "1934              Drive-Away Dolls   \n",
       "1935               It Lives Inside   \n",
       "1936  PAW Patrol: The Mighty Movie   \n",
       "1937                   The Creator   \n",
       "1938                         Saw X   \n",
       "\n",
       "                                          Cast and crew  \\\n",
       "0     Anna Foerster (director); Cory Goodman (screen...   \n",
       "1     Steven C. Miller (director); Jason Mosberg (sc...   \n",
       "2     Rafael Palacio Illingworth (director/screenpla...   \n",
       "3     Chris Wedge (director); Derek Connolly (screen...   \n",
       "4     Stacy Title (director); Jonathan Penner (scree...   \n",
       "...                                                 ...   \n",
       "1934  Ethan Coen (director/screenplay); Tricia Cooke...   \n",
       "1935  Bishal Dutta (director/screenplay); Megan Suri...   \n",
       "1936  Cal Brunker (director); Mckenna Grace, Taraji ...   \n",
       "1937  Gareth Edwards (director/screenplay); Chris We...   \n",
       "1938  Kevin Greutert (director); Josh Stolberg, Pete...   \n",
       "\n",
       "                              genres  \n",
       "0        FantasyActionThrillerHorror  \n",
       "1                      ThrillerCrime  \n",
       "2                              Drama  \n",
       "3        ActionComedyScience Fiction  \n",
       "4                     HorrorThriller  \n",
       "...                              ...  \n",
       "1934                     CrimeComedy  \n",
       "1935                          Horror  \n",
       "1936     AnimationFamilyComedyAction  \n",
       "1937   Science FictionActionThriller  \n",
       "1938           HorrorThrillerMystery  \n",
       "\n",
       "[1939 rows x 3 columns]"
      ]
     },
     "execution_count": 191,
     "metadata": {},
     "output_type": "execute_result"
    }
   ],
   "source": [
    "df_total"
   ]
  },
  {
   "cell_type": "code",
   "execution_count": 193,
   "metadata": {},
   "outputs": [
    {
     "data": {
      "text/html": [
       "<div>\n",
       "<style scoped>\n",
       "    .dataframe tbody tr th:only-of-type {\n",
       "        vertical-align: middle;\n",
       "    }\n",
       "\n",
       "    .dataframe tbody tr th {\n",
       "        vertical-align: top;\n",
       "    }\n",
       "\n",
       "    .dataframe thead th {\n",
       "        text-align: right;\n",
       "    }\n",
       "</style>\n",
       "<table border=\"1\" class=\"dataframe\">\n",
       "  <thead>\n",
       "    <tr style=\"text-align: right;\">\n",
       "      <th></th>\n",
       "      <th>Title</th>\n",
       "      <th>Cast and crew</th>\n",
       "      <th>genres</th>\n",
       "    </tr>\n",
       "  </thead>\n",
       "  <tbody>\n",
       "    <tr>\n",
       "      <th>1394</th>\n",
       "      <td>Fortress</td>\n",
       "      <td>James Cullen Bressack (director); Alan Horsnai...</td>\n",
       "      <td>ActionThrillerCrime</td>\n",
       "    </tr>\n",
       "  </tbody>\n",
       "</table>\n",
       "</div>"
      ],
      "text/plain": [
       "         Title                                      Cast and crew  \\\n",
       "1394  Fortress  James Cullen Bressack (director); Alan Horsnai...   \n",
       "\n",
       "                    genres  \n",
       "1394   ActionThrillerCrime  "
      ]
     },
     "execution_count": 193,
     "metadata": {},
     "output_type": "execute_result"
    }
   ],
   "source": [
    "df_total[df_total[\"Title\"] == \"Fortress\"]"
   ]
  },
  {
   "cell_type": "code",
   "execution_count": 164,
   "metadata": {},
   "outputs": [
    {
     "data": {
      "text/plain": [
       "' Drama'"
      ]
     },
     "execution_count": 164,
     "metadata": {},
     "output_type": "execute_result"
    }
   ],
   "source": [
    "get_genres(\"Memoria\")"
   ]
  },
  {
   "cell_type": "code",
   "execution_count": 173,
   "metadata": {},
   "outputs": [],
   "source": []
  },
  {
   "cell_type": "code",
   "execution_count": 174,
   "metadata": {},
   "outputs": [
    {
     "data": {
      "text/plain": [
       "Title            object\n",
       "Cast and crew    object\n",
       "dtype: object"
      ]
     },
     "execution_count": 174,
     "metadata": {},
     "output_type": "execute_result"
    }
   ],
   "source": [
    "df_2021.dtypes"
   ]
  },
  {
   "cell_type": "code",
   "execution_count": 175,
   "metadata": {},
   "outputs": [],
   "source": []
  },
  {
   "cell_type": "code",
   "execution_count": 176,
   "metadata": {},
   "outputs": [
    {
     "data": {
      "text/html": [
       "<div>\n",
       "<style scoped>\n",
       "    .dataframe tbody tr th:only-of-type {\n",
       "        vertical-align: middle;\n",
       "    }\n",
       "\n",
       "    .dataframe tbody tr th {\n",
       "        vertical-align: top;\n",
       "    }\n",
       "\n",
       "    .dataframe thead th {\n",
       "        text-align: right;\n",
       "    }\n",
       "</style>\n",
       "<table border=\"1\" class=\"dataframe\">\n",
       "  <thead>\n",
       "    <tr style=\"text-align: right;\">\n",
       "      <th></th>\n",
       "      <th>Title</th>\n",
       "      <th>Cast and crew</th>\n",
       "      <th>genres</th>\n",
       "    </tr>\n",
       "  </thead>\n",
       "  <tbody>\n",
       "    <tr>\n",
       "      <th>0</th>\n",
       "      <td>Shadow in the Cloud</td>\n",
       "      <td>Roseanne Liang (director/screenplay); Max Land...</td>\n",
       "      <td>HorrorActionWar</td>\n",
       "    </tr>\n",
       "    <tr>\n",
       "      <th>1</th>\n",
       "      <td>The White Tiger</td>\n",
       "      <td>Ramin Bahrani (director/screenplay); Adarsh Go...</td>\n",
       "      <td>Drama</td>\n",
       "    </tr>\n",
       "    <tr>\n",
       "      <th>2</th>\n",
       "      <td>Locked Down</td>\n",
       "      <td>Doug Liman (director); Steven Knight (screenpl...</td>\n",
       "      <td>ComedyCrimeDrama</td>\n",
       "    </tr>\n",
       "    <tr>\n",
       "      <th>3</th>\n",
       "      <td>The Dig</td>\n",
       "      <td>Simon Stone (director); Moira Buffini (screenp...</td>\n",
       "      <td>DramaHistory</td>\n",
       "    </tr>\n",
       "    <tr>\n",
       "      <th>4</th>\n",
       "      <td>Outside the Wire</td>\n",
       "      <td>Mikael Håfström (director); Rob Yescombe, Rowa...</td>\n",
       "      <td>ThrillerActionScience Fiction</td>\n",
       "    </tr>\n",
       "  </tbody>\n",
       "</table>\n",
       "</div>"
      ],
      "text/plain": [
       "                 Title                                      Cast and crew  \\\n",
       "0  Shadow in the Cloud  Roseanne Liang (director/screenplay); Max Land...   \n",
       "1      The White Tiger  Ramin Bahrani (director/screenplay); Adarsh Go...   \n",
       "2          Locked Down  Doug Liman (director); Steven Knight (screenpl...   \n",
       "3              The Dig  Simon Stone (director); Moira Buffini (screenp...   \n",
       "4     Outside the Wire  Mikael Håfström (director); Rob Yescombe, Rowa...   \n",
       "\n",
       "                           genres  \n",
       "0                 HorrorActionWar  \n",
       "1                           Drama  \n",
       "2                ComedyCrimeDrama  \n",
       "3                    DramaHistory  \n",
       "4   ThrillerActionScience Fiction  "
      ]
     },
     "execution_count": 176,
     "metadata": {},
     "output_type": "execute_result"
    }
   ],
   "source": [
    "df_2021.head()"
   ]
  },
  {
   "cell_type": "code",
   "execution_count": 189,
   "metadata": {},
   "outputs": [
    {
     "data": {
      "text/plain": [
       "1939"
      ]
     },
     "execution_count": 189,
     "metadata": {},
     "output_type": "execute_result"
    }
   ],
   "source": [
    "len(df_2017)+len(df_2018)+len(df_2019)+len(df_2020)+len(df_2021)+len(df_2022)+len(df_2023)"
   ]
  },
  {
   "cell_type": "code",
   "execution_count": null,
   "metadata": {},
   "outputs": [],
   "source": []
  }
 ],
 "metadata": {
  "kernelspec": {
   "display_name": "Python 3 (ipykernel)",
   "language": "python",
   "name": "python3"
  },
  "language_info": {
   "codemirror_mode": {
    "name": "ipython",
    "version": 3
   },
   "file_extension": ".py",
   "mimetype": "text/x-python",
   "name": "python",
   "nbconvert_exporter": "python",
   "pygments_lexer": "ipython3",
   "version": "3.9.12"
  }
 },
 "nbformat": 4,
 "nbformat_minor": 2
}
