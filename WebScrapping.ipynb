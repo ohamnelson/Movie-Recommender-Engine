{
 "cells": [
  {
   "cell_type": "code",
   "execution_count": 57,
   "metadata": {},
   "outputs": [],
   "source": [
    "import pandas as pd\n",
    "import numpy as np\n",
    "import os\n",
    "\n",
    "from tmdbv3api import Movie\n",
    "from tmdbv3api import TMDb\n",
    "import requests"
   ]
  },
  {
   "cell_type": "code",
   "execution_count": 59,
   "metadata": {},
   "outputs": [],
   "source": [
    "#for i in range(2018,2024):\n",
    "def get_movies(year):\n",
    "    link = f\"https://en.wikipedia.org/wiki/List_of_American_films_of_{year}\"\n",
    "    df1 = pd.read_html(link, header=0)[2]\n",
    "    df2 = pd.read_html(link, header=0)[3]\n",
    "    df3 = pd.read_html(link, header=0)[4]\n",
    "    df4 = pd.read_html(link, header=0)[5]\n",
    "    df = df1.append(df2.append(df3.append(df4,ignore_index=True),ignore_index=True),ignore_index=True)\n",
    "\n",
    "    return df\n",
    "\n",
    "#get_movies(2023)"
   ]
  },
  {
   "cell_type": "code",
   "execution_count": 61,
   "metadata": {},
   "outputs": [],
   "source": [
    "def get_genres(movie_name):\n",
    "    tmdb = TMDb()\n",
    "    tmdb_movie = Movie()\n",
    "\n",
    "    genres = \" \"\n",
    "    result = tmdb_movie.search(movie_name)\n",
    "\n",
    "    id = result[0][\"id\"]\n",
    "\n",
    "    url = f\"http://api.themoviedb.org/3/movie/{id}?api_key={os.environ.get('api_key')}\"\n",
    "    response = requests.get(url)\n",
    "    data = response.json()\n",
    "    \n",
    "    for i in range(0,len(data[\"genres\"])):\n",
    "        genres +=((data[\"genres\"][i][\"name\"])) \n",
    "    \n",
    "    return genres\n"
   ]
  },
  {
   "cell_type": "code",
   "execution_count": null,
   "metadata": {},
   "outputs": [],
   "source": [
    "\n",
    "\n"
   ]
  },
  {
   "cell_type": "code",
   "execution_count": 39,
   "metadata": {},
   "outputs": [],
   "source": []
  },
  {
   "cell_type": "code",
   "execution_count": null,
   "metadata": {},
   "outputs": [],
   "source": []
  }
 ],
 "metadata": {
  "kernelspec": {
   "display_name": "Python 3 (ipykernel)",
   "language": "python",
   "name": "python3"
  },
  "language_info": {
   "codemirror_mode": {
    "name": "ipython",
    "version": 3
   },
   "file_extension": ".py",
   "mimetype": "text/x-python",
   "name": "python",
   "nbconvert_exporter": "python",
   "pygments_lexer": "ipython3",
   "version": "3.9.12"
  }
 },
 "nbformat": 4,
 "nbformat_minor": 2
}
