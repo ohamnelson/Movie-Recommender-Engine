{
 "cells": [
  {
   "cell_type": "code",
   "execution_count": 41,
   "metadata": {},
   "outputs": [],
   "source": [
    "import pandas as pd\n",
    "import numpy as np\n",
    "import os\n",
    "\n",
    "from tmdbv3api import Movie\n",
    "from tmdbv3api import TMDb"
   ]
  },
  {
   "cell_type": "code",
   "execution_count": 50,
   "metadata": {},
   "outputs": [
    {
     "name": "stderr",
     "output_type": "stream",
     "text": [
      "/var/folders/c3/dvn59mv90v1_ty94ywl85v0r0000gn/T/ipykernel_48328/1640052408.py:8: FutureWarning: The frame.append method is deprecated and will be removed from pandas in a future version. Use pandas.concat instead.\n",
      "  df = df1.append(df2.append(df3.append(df4,ignore_index=True),ignore_index=True),ignore_index=True)\n"
     ]
    },
    {
     "data": {
      "text/html": [
       "<div>\n",
       "<style scoped>\n",
       "    .dataframe tbody tr th:only-of-type {\n",
       "        vertical-align: middle;\n",
       "    }\n",
       "\n",
       "    .dataframe tbody tr th {\n",
       "        vertical-align: top;\n",
       "    }\n",
       "\n",
       "    .dataframe thead th {\n",
       "        text-align: right;\n",
       "    }\n",
       "</style>\n",
       "<table border=\"1\" class=\"dataframe\">\n",
       "  <thead>\n",
       "    <tr style=\"text-align: right;\">\n",
       "      <th></th>\n",
       "      <th>Rank</th>\n",
       "      <th>Title</th>\n",
       "      <th>Distributor</th>\n",
       "      <th>Domestic gross</th>\n",
       "      <th>Opening</th>\n",
       "      <th>Opening.1</th>\n",
       "      <th>Production company</th>\n",
       "      <th>Cast and crew</th>\n",
       "      <th>Ref.</th>\n",
       "    </tr>\n",
       "  </thead>\n",
       "  <tbody>\n",
       "    <tr>\n",
       "      <th>0</th>\n",
       "      <td>1.0</td>\n",
       "      <td>The Super Mario Bros. Movie*</td>\n",
       "      <td>Universal</td>\n",
       "      <td>$574,057,485</td>\n",
       "      <td>NaN</td>\n",
       "      <td>NaN</td>\n",
       "      <td>NaN</td>\n",
       "      <td>NaN</td>\n",
       "      <td>NaN</td>\n",
       "    </tr>\n",
       "    <tr>\n",
       "      <th>1</th>\n",
       "      <td>2.0</td>\n",
       "      <td>Spider-Man: Across the Spider-Verse*</td>\n",
       "      <td>Sony</td>\n",
       "      <td>$375,209,000</td>\n",
       "      <td>NaN</td>\n",
       "      <td>NaN</td>\n",
       "      <td>NaN</td>\n",
       "      <td>NaN</td>\n",
       "      <td>NaN</td>\n",
       "    </tr>\n",
       "    <tr>\n",
       "      <th>2</th>\n",
       "      <td>3.0</td>\n",
       "      <td>Guardians of the Galaxy Vol. 3*</td>\n",
       "      <td>Disney</td>\n",
       "      <td>$358,853,459</td>\n",
       "      <td>NaN</td>\n",
       "      <td>NaN</td>\n",
       "      <td>NaN</td>\n",
       "      <td>NaN</td>\n",
       "      <td>NaN</td>\n",
       "    </tr>\n",
       "    <tr>\n",
       "      <th>3</th>\n",
       "      <td>4.0</td>\n",
       "      <td>The Little Mermaid*</td>\n",
       "      <td>Disney</td>\n",
       "      <td>$296,107,607</td>\n",
       "      <td>NaN</td>\n",
       "      <td>NaN</td>\n",
       "      <td>NaN</td>\n",
       "      <td>NaN</td>\n",
       "      <td>NaN</td>\n",
       "    </tr>\n",
       "    <tr>\n",
       "      <th>4</th>\n",
       "      <td>5.0</td>\n",
       "      <td>Ant-Man and the Wasp: Quantumania</td>\n",
       "      <td>Disney</td>\n",
       "      <td>$214,506,909</td>\n",
       "      <td>NaN</td>\n",
       "      <td>NaN</td>\n",
       "      <td>NaN</td>\n",
       "      <td>NaN</td>\n",
       "      <td>NaN</td>\n",
       "    </tr>\n",
       "    <tr>\n",
       "      <th>...</th>\n",
       "      <td>...</td>\n",
       "      <td>...</td>\n",
       "      <td>...</td>\n",
       "      <td>...</td>\n",
       "      <td>...</td>\n",
       "      <td>...</td>\n",
       "      <td>...</td>\n",
       "      <td>...</td>\n",
       "      <td>...</td>\n",
       "    </tr>\n",
       "    <tr>\n",
       "      <th>202</th>\n",
       "      <td>NaN</td>\n",
       "      <td>Drive-Away Dolls</td>\n",
       "      <td>NaN</td>\n",
       "      <td>NaN</td>\n",
       "      <td>SEPTEMBER</td>\n",
       "      <td>22.0</td>\n",
       "      <td>Focus Features / Working Title Films</td>\n",
       "      <td>Ethan Coen (director/screenplay); Tricia Cooke...</td>\n",
       "      <td>[177]</td>\n",
       "    </tr>\n",
       "    <tr>\n",
       "      <th>203</th>\n",
       "      <td>NaN</td>\n",
       "      <td>It Lives Inside</td>\n",
       "      <td>NaN</td>\n",
       "      <td>NaN</td>\n",
       "      <td>SEPTEMBER</td>\n",
       "      <td>22.0</td>\n",
       "      <td>Neon / Brightlight Pictures</td>\n",
       "      <td>Bishal Dutta (director/screenplay); Megan Suri...</td>\n",
       "      <td>[178]</td>\n",
       "    </tr>\n",
       "    <tr>\n",
       "      <th>204</th>\n",
       "      <td>NaN</td>\n",
       "      <td>PAW Patrol: The Mighty Movie</td>\n",
       "      <td>NaN</td>\n",
       "      <td>NaN</td>\n",
       "      <td>SEPTEMBER</td>\n",
       "      <td>29.0</td>\n",
       "      <td>Paramount Pictures / Nickelodeon Movies / Spin...</td>\n",
       "      <td>Cal Brunker (director); Mckenna Grace, Taraji ...</td>\n",
       "      <td>[179]</td>\n",
       "    </tr>\n",
       "    <tr>\n",
       "      <th>205</th>\n",
       "      <td>NaN</td>\n",
       "      <td>The Creator</td>\n",
       "      <td>NaN</td>\n",
       "      <td>NaN</td>\n",
       "      <td>SEPTEMBER</td>\n",
       "      <td>29.0</td>\n",
       "      <td>20th Century Studios / Regency Enterprises / E...</td>\n",
       "      <td>Gareth Edwards (director/screenplay); Chris We...</td>\n",
       "      <td>[180]</td>\n",
       "    </tr>\n",
       "    <tr>\n",
       "      <th>206</th>\n",
       "      <td>NaN</td>\n",
       "      <td>Saw X</td>\n",
       "      <td>NaN</td>\n",
       "      <td>NaN</td>\n",
       "      <td>SEPTEMBER</td>\n",
       "      <td>29.0</td>\n",
       "      <td>Lionsgate / Twisted Pictures</td>\n",
       "      <td>Kevin Greutert (director); Josh Stolberg, Pete...</td>\n",
       "      <td>[181]</td>\n",
       "    </tr>\n",
       "  </tbody>\n",
       "</table>\n",
       "<p>207 rows × 9 columns</p>\n",
       "</div>"
      ],
      "text/plain": [
       "     Rank                                 Title Distributor Domestic gross  \\\n",
       "0     1.0          The Super Mario Bros. Movie*   Universal   $574,057,485   \n",
       "1     2.0  Spider-Man: Across the Spider-Verse*        Sony   $375,209,000   \n",
       "2     3.0       Guardians of the Galaxy Vol. 3*      Disney   $358,853,459   \n",
       "3     4.0                   The Little Mermaid*      Disney   $296,107,607   \n",
       "4     5.0     Ant-Man and the Wasp: Quantumania      Disney   $214,506,909   \n",
       "..    ...                                   ...         ...            ...   \n",
       "202   NaN                      Drive-Away Dolls         NaN            NaN   \n",
       "203   NaN                       It Lives Inside         NaN            NaN   \n",
       "204   NaN          PAW Patrol: The Mighty Movie         NaN            NaN   \n",
       "205   NaN                           The Creator         NaN            NaN   \n",
       "206   NaN                                 Saw X         NaN            NaN   \n",
       "\n",
       "       Opening  Opening.1                                 Production company  \\\n",
       "0          NaN        NaN                                                NaN   \n",
       "1          NaN        NaN                                                NaN   \n",
       "2          NaN        NaN                                                NaN   \n",
       "3          NaN        NaN                                                NaN   \n",
       "4          NaN        NaN                                                NaN   \n",
       "..         ...        ...                                                ...   \n",
       "202  SEPTEMBER       22.0               Focus Features / Working Title Films   \n",
       "203  SEPTEMBER       22.0                        Neon / Brightlight Pictures   \n",
       "204  SEPTEMBER       29.0  Paramount Pictures / Nickelodeon Movies / Spin...   \n",
       "205  SEPTEMBER       29.0  20th Century Studios / Regency Enterprises / E...   \n",
       "206  SEPTEMBER       29.0                       Lionsgate / Twisted Pictures   \n",
       "\n",
       "                                         Cast and crew   Ref.  \n",
       "0                                                  NaN    NaN  \n",
       "1                                                  NaN    NaN  \n",
       "2                                                  NaN    NaN  \n",
       "3                                                  NaN    NaN  \n",
       "4                                                  NaN    NaN  \n",
       "..                                                 ...    ...  \n",
       "202  Ethan Coen (director/screenplay); Tricia Cooke...  [177]  \n",
       "203  Bishal Dutta (director/screenplay); Megan Suri...  [178]  \n",
       "204  Cal Brunker (director); Mckenna Grace, Taraji ...  [179]  \n",
       "205  Gareth Edwards (director/screenplay); Chris We...  [180]  \n",
       "206  Kevin Greutert (director); Josh Stolberg, Pete...  [181]  \n",
       "\n",
       "[207 rows x 9 columns]"
      ]
     },
     "execution_count": 50,
     "metadata": {},
     "output_type": "execute_result"
    }
   ],
   "source": [
    "#for i in range(2018,2024):\n",
    "def get_movies(year):\n",
    "    link = f\"https://en.wikipedia.org/wiki/List_of_American_films_of_{year}\"\n",
    "    df1 = pd.read_html(link, header=0)[2]\n",
    "    df2 = pd.read_html(link, header=0)[3]\n",
    "    df3 = pd.read_html(link, header=0)[4]\n",
    "    df4 = pd.read_html(link, header=0)[5]\n",
    "    df = df1.append(df2.append(df3.append(df4,ignore_index=True),ignore_index=True),ignore_index=True)\n",
    "\n",
    "    return df\n",
    "\n",
    "\n",
    "get_movies(2023)"
   ]
  },
  {
   "cell_type": "code",
   "execution_count": 57,
   "metadata": {},
   "outputs": [],
   "source": [
    "tmdb = TMDb()\n",
    "tmdb_movie = Movie()\n",
    "\n",
    "genres = []\n",
    "result = tmdb_movie.search(\"Creed\")\n",
    "movie_id = result"
   ]
  },
  {
   "cell_type": "code",
   "execution_count": 58,
   "metadata": {},
   "outputs": [],
   "source": [
    "id = movie_id[0][\"id\"]"
   ]
  },
  {
   "cell_type": "code",
   "execution_count": 59,
   "metadata": {},
   "outputs": [],
   "source": [
    "import requests\n",
    "\n",
    "url = f\"http://api.themoviedb.org/3/movie/{id}?api_key=b244d3a3077aee0bbf98ee8a5ad16c10\"\n",
    "\n",
    "response = requests.get(url)\n",
    "\n",
    "data = response.json()"
   ]
  },
  {
   "cell_type": "code",
   "execution_count": 60,
   "metadata": {},
   "outputs": [
    {
     "data": {
      "text/plain": [
       "[{'id': 28, 'name': 'Action'}, {'id': 18, 'name': 'Drama'}]"
      ]
     },
     "execution_count": 60,
     "metadata": {},
     "output_type": "execute_result"
    }
   ],
   "source": [
    "data[\"genres\"]"
   ]
  },
  {
   "cell_type": "code",
   "execution_count": 39,
   "metadata": {},
   "outputs": [],
   "source": [
    "generes = \" \"\n",
    "for i in range(0,len(data[\"genres\"])):\n",
    "    generes +=((data[\"genres\"][i][\"name\"])) + \" \""
   ]
  },
  {
   "cell_type": "code",
   "execution_count": 40,
   "metadata": {},
   "outputs": [
    {
     "data": {
      "text/plain": [
       "' Action Adventure Animation Science Fiction '"
      ]
     },
     "execution_count": 40,
     "metadata": {},
     "output_type": "execute_result"
    }
   ],
   "source": [
    "generes"
   ]
  },
  {
   "cell_type": "code",
   "execution_count": null,
   "metadata": {},
   "outputs": [],
   "source": []
  }
 ],
 "metadata": {
  "kernelspec": {
   "display_name": "Python 3 (ipykernel)",
   "language": "python",
   "name": "python3"
  },
  "language_info": {
   "codemirror_mode": {
    "name": "ipython",
    "version": 3
   },
   "file_extension": ".py",
   "mimetype": "text/x-python",
   "name": "python",
   "nbconvert_exporter": "python",
   "pygments_lexer": "ipython3",
   "version": "3.9.12"
  }
 },
 "nbformat": 4,
 "nbformat_minor": 2
}
