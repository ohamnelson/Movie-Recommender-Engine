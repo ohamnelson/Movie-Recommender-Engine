{
 "cells": [
  {
   "cell_type": "code",
   "execution_count": 81,
   "metadata": {},
   "outputs": [],
   "source": [
    "import pandas as pd\n",
    "import numpy as np\n",
    "\n",
    "from sentence_transformers import SentenceTransformer\n",
    "import faiss\n",
    "import pickle"
   ]
  },
  {
   "cell_type": "code",
   "execution_count": 85,
   "metadata": {},
   "outputs": [
    {
     "data": {
      "text/html": [
       "<div>\n",
       "<style scoped>\n",
       "    .dataframe tbody tr th:only-of-type {\n",
       "        vertical-align: middle;\n",
       "    }\n",
       "\n",
       "    .dataframe tbody tr th {\n",
       "        vertical-align: top;\n",
       "    }\n",
       "\n",
       "    .dataframe thead th {\n",
       "        text-align: right;\n",
       "    }\n",
       "</style>\n",
       "<table border=\"1\" class=\"dataframe\">\n",
       "  <thead>\n",
       "    <tr style=\"text-align: right;\">\n",
       "      <th></th>\n",
       "      <th>movie_title</th>\n",
       "      <th>genres</th>\n",
       "      <th>director_name</th>\n",
       "      <th>actor_1_name</th>\n",
       "      <th>actor_2_name</th>\n",
       "      <th>actor_3_name</th>\n",
       "      <th>overview</th>\n",
       "      <th>combine</th>\n",
       "      <th>poster</th>\n",
       "    </tr>\n",
       "  </thead>\n",
       "  <tbody>\n",
       "    <tr>\n",
       "      <th>0</th>\n",
       "      <td>Underworld: Blood Wars</td>\n",
       "      <td>Fantasy Action Thriller Horror</td>\n",
       "      <td>Anna Foerster</td>\n",
       "      <td>Kate Beckinsale</td>\n",
       "      <td>Theo James</td>\n",
       "      <td>Lara Pulver</td>\n",
       "      <td>Vampire death dealer Selene fends off brutal a...</td>\n",
       "      <td>Underworld: Blood Wars Fantasy Action Thriller...</td>\n",
       "      <td>https://image.tmdb.org/t/p/original/v1ciDCWMG4...</td>\n",
       "    </tr>\n",
       "    <tr>\n",
       "      <th>1</th>\n",
       "      <td>Arsenal</td>\n",
       "      <td>Thriller Crime</td>\n",
       "      <td>Steven C. Miller</td>\n",
       "      <td>Adrian Grenier</td>\n",
       "      <td>Johnathon Schaech</td>\n",
       "      <td>Nicolas Cage</td>\n",
       "      <td>After the deadbeat brother of a businessman is...</td>\n",
       "      <td>Arsenal Thriller Crime Steven C. Miller  Adria...</td>\n",
       "      <td>https://image.tmdb.org/t/p/original/b9vwgGqWge...</td>\n",
       "    </tr>\n",
       "    <tr>\n",
       "      <th>2</th>\n",
       "      <td>Between Us</td>\n",
       "      <td>Drama</td>\n",
       "      <td>Rafael Palacio Illingworth</td>\n",
       "      <td>Olivia Thirlby</td>\n",
       "      <td>Ben Feldman</td>\n",
       "      <td>Adam Goldberg</td>\n",
       "      <td>A New York couple and their Midwestern friends...</td>\n",
       "      <td>Between Us Drama Rafael Palacio Illingworth  O...</td>\n",
       "      <td>https://image.tmdb.org/t/p/original/uieZWH2BOz...</td>\n",
       "    </tr>\n",
       "    <tr>\n",
       "      <th>3</th>\n",
       "      <td>Monster Trucks</td>\n",
       "      <td>Action Comedy Science Fiction</td>\n",
       "      <td>Chris Wedge</td>\n",
       "      <td>Lucas Till</td>\n",
       "      <td>Jane Levy</td>\n",
       "      <td>Amy Ryan</td>\n",
       "      <td>Tripp is a high school senior with a knack for...</td>\n",
       "      <td>Monster Trucks Action Comedy Science Fiction C...</td>\n",
       "      <td>https://image.tmdb.org/t/p/original/jDKONUh6CD...</td>\n",
       "    </tr>\n",
       "    <tr>\n",
       "      <th>4</th>\n",
       "      <td>The Bye Bye Man</td>\n",
       "      <td>Horror Thriller</td>\n",
       "      <td>Stacy Title</td>\n",
       "      <td>Douglas Smith</td>\n",
       "      <td>Doug Jones</td>\n",
       "      <td>Michael Trucco</td>\n",
       "      <td>When three college students move into an old h...</td>\n",
       "      <td>The Bye Bye Man Horror Thriller Stacy Title  D...</td>\n",
       "      <td>https://image.tmdb.org/t/p/original/bape74Eeli...</td>\n",
       "    </tr>\n",
       "  </tbody>\n",
       "</table>\n",
       "</div>"
      ],
      "text/plain": [
       "              movie_title                          genres  \\\n",
       "0  Underworld: Blood Wars  Fantasy Action Thriller Horror   \n",
       "1                 Arsenal                  Thriller Crime   \n",
       "2              Between Us                           Drama   \n",
       "3          Monster Trucks   Action Comedy Science Fiction   \n",
       "4         The Bye Bye Man                 Horror Thriller   \n",
       "\n",
       "                 director_name      actor_1_name        actor_2_name  \\\n",
       "0               Anna Foerster    Kate Beckinsale          Theo James   \n",
       "1            Steven C. Miller     Adrian Grenier   Johnathon Schaech   \n",
       "2  Rafael Palacio Illingworth     Olivia Thirlby         Ben Feldman   \n",
       "3                 Chris Wedge         Lucas Till           Jane Levy   \n",
       "4                 Stacy Title      Douglas Smith          Doug Jones   \n",
       "\n",
       "      actor_3_name                                           overview  \\\n",
       "0      Lara Pulver  Vampire death dealer Selene fends off brutal a...   \n",
       "1     Nicolas Cage  After the deadbeat brother of a businessman is...   \n",
       "2    Adam Goldberg  A New York couple and their Midwestern friends...   \n",
       "3         Amy Ryan  Tripp is a high school senior with a knack for...   \n",
       "4   Michael Trucco  When three college students move into an old h...   \n",
       "\n",
       "                                             combine  \\\n",
       "0  Underworld: Blood Wars Fantasy Action Thriller...   \n",
       "1  Arsenal Thriller Crime Steven C. Miller  Adria...   \n",
       "2  Between Us Drama Rafael Palacio Illingworth  O...   \n",
       "3  Monster Trucks Action Comedy Science Fiction C...   \n",
       "4  The Bye Bye Man Horror Thriller Stacy Title  D...   \n",
       "\n",
       "                                              poster  \n",
       "0  https://image.tmdb.org/t/p/original/v1ciDCWMG4...  \n",
       "1  https://image.tmdb.org/t/p/original/b9vwgGqWge...  \n",
       "2  https://image.tmdb.org/t/p/original/uieZWH2BOz...  \n",
       "3  https://image.tmdb.org/t/p/original/jDKONUh6CD...  \n",
       "4  https://image.tmdb.org/t/p/original/bape74Eeli...  "
      ]
     },
     "execution_count": 85,
     "metadata": {},
     "output_type": "execute_result"
    }
   ],
   "source": [
    "MovieDataSet = pd.read_csv(\"MovieFinal.csv\")\n",
    "MovieDataSet.head()"
   ]
  },
  {
   "cell_type": "code",
   "execution_count": 22,
   "metadata": {},
   "outputs": [
    {
     "name": "stdout",
     "output_type": "stream",
     "text": [
      "CPU times: user 25min 40s, sys: 1min 22s, total: 27min 3s\n",
      "Wall time: 3h 20min 11s\n"
     ]
    }
   ],
   "source": [
    "%%time\n",
    "encoder = SentenceTransformer(\"all-mpnet-base-v2\")\n",
    "vectors = encoder.encode(MovieDataSet[\"combine\"])"
   ]
  },
  {
   "cell_type": "code",
   "execution_count": 86,
   "metadata": {},
   "outputs": [],
   "source": [
    "vectors_movie = encoder.encode(MovieDataSet[\"movie_title\"])"
   ]
  },
  {
   "cell_type": "code",
   "execution_count": 87,
   "metadata": {},
   "outputs": [
    {
     "data": {
      "text/plain": [
       "768"
      ]
     },
     "execution_count": 87,
     "metadata": {},
     "output_type": "execute_result"
    }
   ],
   "source": [
    "vectors_movie.shape[1]"
   ]
  },
  {
   "cell_type": "code",
   "execution_count": 88,
   "metadata": {},
   "outputs": [],
   "source": [
    "# creating an index equal to the length of the vector\n",
    "index = faiss.IndexFlatL2(vectors.shape[1])\n",
    "index_movie = faiss.IndexFlatL2(vectors_movie.shape[1])"
   ]
  },
  {
   "cell_type": "code",
   "execution_count": 90,
   "metadata": {},
   "outputs": [],
   "source": [
    "#adding the created vector embeddings to the index (This is the vector database)\n",
    "index.add(vectors)\n",
    "index_movie.add(vectors_movie)"
   ]
  },
  {
   "cell_type": "code",
   "execution_count": 91,
   "metadata": {},
   "outputs": [],
   "source": [
    "search_query = \"Spiderman\"\n",
    "search_vec = encoder.encode(search_query)"
   ]
  },
  {
   "cell_type": "code",
   "execution_count": 61,
   "metadata": {},
   "outputs": [],
   "source": [
    "search_query = \"Creed the boxer is such a great fighter. he loves boxing in the ring. last time he knocked his opponent down\"\n",
    "search_vec = encoder.encode(search_query)\n"
   ]
  },
  {
   "cell_type": "code",
   "execution_count": 107,
   "metadata": {},
   "outputs": [
    {
     "data": {
      "text/plain": [
       "(1, 768)"
      ]
     },
     "execution_count": 107,
     "metadata": {},
     "output_type": "execute_result"
    }
   ],
   "source": [
    "search_vec = search_vec.reshape((1,-1))\n",
    "search_vec.shape"
   ]
  },
  {
   "cell_type": "code",
   "execution_count": 108,
   "metadata": {},
   "outputs": [
    {
     "data": {
      "text/plain": [
       "array([[2014, 1890, 1897, 1903, 1786,  497,  620, 1660,  123,  502]])"
      ]
     },
     "execution_count": 108,
     "metadata": {},
     "output_type": "execute_result"
    }
   ],
   "source": [
    "distances, I = index_movie.search(search_vec, 10)\n",
    "I"
   ]
  },
  {
   "cell_type": "code",
   "execution_count": 109,
   "metadata": {},
   "outputs": [
    {
     "data": {
      "text/plain": [
       "array([2014, 1890, 1897, 1903, 1786,  497,  620, 1660,  123,  502])"
      ]
     },
     "execution_count": 109,
     "metadata": {},
     "output_type": "execute_result"
    }
   ],
   "source": [
    "I = I.reshape(-1,)\n",
    "I"
   ]
  },
  {
   "cell_type": "code",
   "execution_count": 110,
   "metadata": {},
   "outputs": [
    {
     "data": {
      "text/html": [
       "<div>\n",
       "<style scoped>\n",
       "    .dataframe tbody tr th:only-of-type {\n",
       "        vertical-align: middle;\n",
       "    }\n",
       "\n",
       "    .dataframe tbody tr th {\n",
       "        vertical-align: top;\n",
       "    }\n",
       "\n",
       "    .dataframe thead th {\n",
       "        text-align: right;\n",
       "    }\n",
       "</style>\n",
       "<table border=\"1\" class=\"dataframe\">\n",
       "  <thead>\n",
       "    <tr style=\"text-align: right;\">\n",
       "      <th></th>\n",
       "      <th>movie_title</th>\n",
       "      <th>genres</th>\n",
       "      <th>director_name</th>\n",
       "      <th>actor_1_name</th>\n",
       "      <th>actor_2_name</th>\n",
       "      <th>actor_3_name</th>\n",
       "      <th>overview</th>\n",
       "      <th>combine</th>\n",
       "      <th>poster</th>\n",
       "    </tr>\n",
       "  </thead>\n",
       "  <tbody>\n",
       "    <tr>\n",
       "      <th>2014</th>\n",
       "      <td>Spider-Man</td>\n",
       "      <td>Action Adventure Fantasy Romance</td>\n",
       "      <td>Sam Raimi</td>\n",
       "      <td>J.K. Simmons</td>\n",
       "      <td>James Franco</td>\n",
       "      <td>Kirsten Dunst</td>\n",
       "      <td>After reuniting with Gwen Stacy, Brooklyn’s fu...</td>\n",
       "      <td>Spider-Man  Action Adventure Fantasy Romance S...</td>\n",
       "      <td>https://image.tmdb.org/t/p/original/8Vt6mWEReu...</td>\n",
       "    </tr>\n",
       "    <tr>\n",
       "      <th>1890</th>\n",
       "      <td>The Amazing Spider-Man</td>\n",
       "      <td>Action Adventure Fantasy</td>\n",
       "      <td>Marc Webb</td>\n",
       "      <td>Emma Stone</td>\n",
       "      <td>Andrew Garfield</td>\n",
       "      <td>Chris Zylka</td>\n",
       "      <td>Peter Parker is an outcast high schooler aband...</td>\n",
       "      <td>The Amazing Spider-Man  Action Adventure Fanta...</td>\n",
       "      <td>https://image.tmdb.org/t/p/original/jIfkQNARYy...</td>\n",
       "    </tr>\n",
       "    <tr>\n",
       "      <th>1897</th>\n",
       "      <td>Spider-Man 2</td>\n",
       "      <td>Action Adventure Fantasy Romance</td>\n",
       "      <td>Sam Raimi</td>\n",
       "      <td>J.K. Simmons</td>\n",
       "      <td>James Franco</td>\n",
       "      <td>Kirsten Dunst</td>\n",
       "      <td>For Peter Parker, life is busy. Between taking...</td>\n",
       "      <td>Spider-Man 2  Action Adventure Fantasy Romance...</td>\n",
       "      <td>https://image.tmdb.org/t/p/original/olxpyq9kJA...</td>\n",
       "    </tr>\n",
       "    <tr>\n",
       "      <th>1903</th>\n",
       "      <td>The Amazing Spider-Man 2</td>\n",
       "      <td>Action Adventure Fantasy Sci-Fi</td>\n",
       "      <td>Marc Webb</td>\n",
       "      <td>Emma Stone</td>\n",
       "      <td>Andrew Garfield</td>\n",
       "      <td>B.J. Novak</td>\n",
       "      <td>For Peter Parker, life is busy. Between taking...</td>\n",
       "      <td>The Amazing Spider-Man 2  Action Adventure Fan...</td>\n",
       "      <td>https://image.tmdb.org/t/p/original/c3e9e18SSl...</td>\n",
       "    </tr>\n",
       "    <tr>\n",
       "      <th>1786</th>\n",
       "      <td>Spider-Man: Across the Spider-Verse</td>\n",
       "      <td>Action Adventure Animation Science Fiction</td>\n",
       "      <td>Joaquim Dos Santos, Kemp Powers, Justin K. Tho...</td>\n",
       "      <td>Shameik Moore</td>\n",
       "      <td>Hailee Steinfeld</td>\n",
       "      <td>Brian Tyree Henry</td>\n",
       "      <td>After reuniting with Gwen Stacy, Brooklyn’s fu...</td>\n",
       "      <td>Spider-Man: Across the Spider-Verse Action Adv...</td>\n",
       "      <td>https://image.tmdb.org/t/p/original/8Vt6mWEReu...</td>\n",
       "    </tr>\n",
       "    <tr>\n",
       "      <th>497</th>\n",
       "      <td>Spider-Man: Into the Spider-Verse</td>\n",
       "      <td>Action Adventure Animation Science Fiction</td>\n",
       "      <td>Bob Persichetti, Peter Ramsey, Rodney Rothman</td>\n",
       "      <td>Shameik Moore</td>\n",
       "      <td>Jake Johnson</td>\n",
       "      <td>Hailee Steinfeld</td>\n",
       "      <td>Struggling to find his place in the world whil...</td>\n",
       "      <td>Spider-Man: Into the Spider-Verse Action Adven...</td>\n",
       "      <td>https://image.tmdb.org/t/p/original/iiZZdoQBEY...</td>\n",
       "    </tr>\n",
       "    <tr>\n",
       "      <th>620</th>\n",
       "      <td>Spider-Man: Far From Home</td>\n",
       "      <td>Action Adventure Science Fiction</td>\n",
       "      <td>Jon Watts</td>\n",
       "      <td>Tom Holland</td>\n",
       "      <td>Samuel L. Jackson</td>\n",
       "      <td>Zendaya</td>\n",
       "      <td>Peter Parker and his friends go on a summer tr...</td>\n",
       "      <td>Spider-Man: Far From Home Action Adventure Sci...</td>\n",
       "      <td>https://image.tmdb.org/t/p/original/4q2NNj4S5d...</td>\n",
       "    </tr>\n",
       "    <tr>\n",
       "      <th>1660</th>\n",
       "      <td>Spider-Man: Across the Spider-Verse*</td>\n",
       "      <td>Action Adventure Animation Science Fiction</td>\n",
       "      <td>NaN</td>\n",
       "      <td>NaN</td>\n",
       "      <td>NaN</td>\n",
       "      <td>NaN</td>\n",
       "      <td>After reuniting with Gwen Stacy, Brooklyn’s fu...</td>\n",
       "      <td>Spider-Man: Across the Spider-Verse* Action Ad...</td>\n",
       "      <td>https://image.tmdb.org/t/p/original/8Vt6mWEReu...</td>\n",
       "    </tr>\n",
       "    <tr>\n",
       "      <th>123</th>\n",
       "      <td>Spider-Man: Homecoming</td>\n",
       "      <td>Action Adventure Science Fiction Drama</td>\n",
       "      <td>Jon Watts</td>\n",
       "      <td>Tom Holland</td>\n",
       "      <td>Michael Keaton</td>\n",
       "      <td>Jon Favreau</td>\n",
       "      <td>Following the events of Captain America: Civil...</td>\n",
       "      <td>Spider-Man: Homecoming Action Adventure Scienc...</td>\n",
       "      <td>https://image.tmdb.org/t/p/original/c24sv2weTH...</td>\n",
       "    </tr>\n",
       "    <tr>\n",
       "      <th>502</th>\n",
       "      <td>Aquaman</td>\n",
       "      <td>Action Adventure Fantasy</td>\n",
       "      <td>James Wan</td>\n",
       "      <td>Jason Momoa</td>\n",
       "      <td>Amber Heard</td>\n",
       "      <td>Willem Dafoe</td>\n",
       "      <td>Once home to the most advanced civilization on...</td>\n",
       "      <td>Aquaman Action Adventure Fantasy James Wan  Ja...</td>\n",
       "      <td>https://image.tmdb.org/t/p/original/uCg2HPY7rB...</td>\n",
       "    </tr>\n",
       "  </tbody>\n",
       "</table>\n",
       "</div>"
      ],
      "text/plain": [
       "                               movie_title  \\\n",
       "2014                            Spider-Man   \n",
       "1890                The Amazing Spider-Man   \n",
       "1897                          Spider-Man 2   \n",
       "1903              The Amazing Spider-Man 2   \n",
       "1786   Spider-Man: Across the Spider-Verse   \n",
       "497      Spider-Man: Into the Spider-Verse   \n",
       "620              Spider-Man: Far From Home   \n",
       "1660  Spider-Man: Across the Spider-Verse*   \n",
       "123                 Spider-Man: Homecoming   \n",
       "502                                Aquaman   \n",
       "\n",
       "                                          genres  \\\n",
       "2014            Action Adventure Fantasy Romance   \n",
       "1890                    Action Adventure Fantasy   \n",
       "1897            Action Adventure Fantasy Romance   \n",
       "1903             Action Adventure Fantasy Sci-Fi   \n",
       "1786  Action Adventure Animation Science Fiction   \n",
       "497   Action Adventure Animation Science Fiction   \n",
       "620             Action Adventure Science Fiction   \n",
       "1660  Action Adventure Animation Science Fiction   \n",
       "123       Action Adventure Science Fiction Drama   \n",
       "502                     Action Adventure Fantasy   \n",
       "\n",
       "                                          director_name    actor_1_name  \\\n",
       "2014                                          Sam Raimi    J.K. Simmons   \n",
       "1890                                          Marc Webb      Emma Stone   \n",
       "1897                                          Sam Raimi    J.K. Simmons   \n",
       "1903                                          Marc Webb      Emma Stone   \n",
       "1786  Joaquim Dos Santos, Kemp Powers, Justin K. Tho...   Shameik Moore   \n",
       "497      Bob Persichetti, Peter Ramsey, Rodney Rothman    Shameik Moore   \n",
       "620                                          Jon Watts      Tom Holland   \n",
       "1660                                                NaN             NaN   \n",
       "123                                          Jon Watts      Tom Holland   \n",
       "502                                          James Wan      Jason Momoa   \n",
       "\n",
       "            actor_2_name        actor_3_name  \\\n",
       "2014        James Franco       Kirsten Dunst   \n",
       "1890     Andrew Garfield         Chris Zylka   \n",
       "1897        James Franco       Kirsten Dunst   \n",
       "1903     Andrew Garfield          B.J. Novak   \n",
       "1786    Hailee Steinfeld   Brian Tyree Henry   \n",
       "497         Jake Johnson    Hailee Steinfeld   \n",
       "620    Samuel L. Jackson             Zendaya   \n",
       "1660                 NaN                 NaN   \n",
       "123       Michael Keaton         Jon Favreau   \n",
       "502          Amber Heard        Willem Dafoe   \n",
       "\n",
       "                                               overview  \\\n",
       "2014  After reuniting with Gwen Stacy, Brooklyn’s fu...   \n",
       "1890  Peter Parker is an outcast high schooler aband...   \n",
       "1897  For Peter Parker, life is busy. Between taking...   \n",
       "1903  For Peter Parker, life is busy. Between taking...   \n",
       "1786  After reuniting with Gwen Stacy, Brooklyn’s fu...   \n",
       "497   Struggling to find his place in the world whil...   \n",
       "620   Peter Parker and his friends go on a summer tr...   \n",
       "1660  After reuniting with Gwen Stacy, Brooklyn’s fu...   \n",
       "123   Following the events of Captain America: Civil...   \n",
       "502   Once home to the most advanced civilization on...   \n",
       "\n",
       "                                                combine  \\\n",
       "2014  Spider-Man  Action Adventure Fantasy Romance S...   \n",
       "1890  The Amazing Spider-Man  Action Adventure Fanta...   \n",
       "1897  Spider-Man 2  Action Adventure Fantasy Romance...   \n",
       "1903  The Amazing Spider-Man 2  Action Adventure Fan...   \n",
       "1786  Spider-Man: Across the Spider-Verse Action Adv...   \n",
       "497   Spider-Man: Into the Spider-Verse Action Adven...   \n",
       "620   Spider-Man: Far From Home Action Adventure Sci...   \n",
       "1660  Spider-Man: Across the Spider-Verse* Action Ad...   \n",
       "123   Spider-Man: Homecoming Action Adventure Scienc...   \n",
       "502   Aquaman Action Adventure Fantasy James Wan  Ja...   \n",
       "\n",
       "                                                 poster  \n",
       "2014  https://image.tmdb.org/t/p/original/8Vt6mWEReu...  \n",
       "1890  https://image.tmdb.org/t/p/original/jIfkQNARYy...  \n",
       "1897  https://image.tmdb.org/t/p/original/olxpyq9kJA...  \n",
       "1903  https://image.tmdb.org/t/p/original/c3e9e18SSl...  \n",
       "1786  https://image.tmdb.org/t/p/original/8Vt6mWEReu...  \n",
       "497   https://image.tmdb.org/t/p/original/iiZZdoQBEY...  \n",
       "620   https://image.tmdb.org/t/p/original/4q2NNj4S5d...  \n",
       "1660  https://image.tmdb.org/t/p/original/8Vt6mWEReu...  \n",
       "123   https://image.tmdb.org/t/p/original/c24sv2weTH...  \n",
       "502   https://image.tmdb.org/t/p/original/uCg2HPY7rB...  "
      ]
     },
     "execution_count": 110,
     "metadata": {},
     "output_type": "execute_result"
    }
   ],
   "source": [
    "MovieDataSet.iloc[I]"
   ]
  },
  {
   "cell_type": "code",
   "execution_count": 111,
   "metadata": {},
   "outputs": [],
   "source": [
    "movie_file_path = \"MovieNameIndex.pk1\"\n",
    "with open(movie_file_path, \"wb\") as f:\n",
    "    pickle.dump(vectors_movie, f)"
   ]
  },
  {
   "cell_type": "code",
   "execution_count": 83,
   "metadata": {},
   "outputs": [],
   "source": [
    "file_path = \"VectorOverviewIndex.pk1\"\n",
    "with open(file_path, \"wb\") as f:\n",
    "    pickle.dump(vectors, f)"
   ]
  }
 ],
 "metadata": {
  "kernelspec": {
   "display_name": ".venv",
   "language": "python",
   "name": "python3"
  },
  "language_info": {
   "codemirror_mode": {
    "name": "ipython",
    "version": 3
   },
   "file_extension": ".py",
   "mimetype": "text/x-python",
   "name": "python",
   "nbconvert_exporter": "python",
   "pygments_lexer": "ipython3",
   "version": "3.7.4"
  }
 },
 "nbformat": 4,
 "nbformat_minor": 2
}
